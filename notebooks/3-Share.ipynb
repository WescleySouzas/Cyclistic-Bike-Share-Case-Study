{
 "cells": [
  {
   "cell_type": "code",
   "execution_count": null,
   "id": "5883ddfa",
   "metadata": {},
   "outputs": [],
   "source": [
    "import matplotlib.pyplot as plt"
   ]
  },
  {
   "cell_type": "code",
   "execution_count": null,
   "id": "6e0b9bdf",
   "metadata": {},
   "outputs": [],
   "source": [
    "# 1. Duração média das viagens por dia da semana\n",
    "avg_ride_by_day.T.plot(kind='bar', figsize=(10,6))\n",
    "plt.title('Duração média das viagens por dia da semana')\n",
    "plt.ylabel('Duração média (min)')\n",
    "plt.xlabel('Dia da semana')\n",
    "plt.show()\n"
   ]
  },
  {
   "cell_type": "code",
   "execution_count": null,
   "id": "d03662c3",
   "metadata": {},
   "outputs": [],
   "source": [
    "# 2. Número de viagens por dia da semana\n",
    "rides_per_day.T.plot(kind='bar', figsize=(10,6))\n",
    "plt.title('Número de viagens por dia da semana')\n",
    "plt.ylabel('Número de viagens')\n",
    "plt.xlabel('Dia da semana')\n",
    "plt.show()"
   ]
  },
  {
   "cell_type": "code",
   "execution_count": null,
   "id": "b3a3df7b",
   "metadata": {},
   "outputs": [],
   "source": [
    "# 3. Volume de viagens por mês\n",
    "monthly_rides.T.drop('Total').plot(kind='line', figsize=(10,6))\n",
    "plt.title('Volume de viagens por mês')\n",
    "plt.ylabel('Número de viagens')\n",
    "plt.xlabel('Mês')\n",
    "plt.show()"
   ]
  },
  {
   "cell_type": "code",
   "execution_count": null,
   "id": "52be1cc5",
   "metadata": {},
   "outputs": [],
   "source": [
    "# 4. Uso dos tipos de bicicleta\n",
    "bike_usage.plot(kind='bar', stacked=True, figsize=(8,6))\n",
    "plt.title('Uso dos tipos de bicicleta por perfil de usuário')\n",
    "plt.ylabel('Número de viagens')\n",
    "plt.xlabel('Tipo de usuário')\n",
    "plt.show()"
   ]
  },
  {
   "cell_type": "code",
   "execution_count": null,
   "id": "ecb86713",
   "metadata": {},
   "outputs": [],
   "source": []
  },
  {
   "cell_type": "code",
   "execution_count": null,
   "id": "4760e0d4",
   "metadata": {},
   "outputs": [],
   "source": []
  }
 ],
 "metadata": {
  "language_info": {
   "name": "python"
  }
 },
 "nbformat": 4,
 "nbformat_minor": 5
}
