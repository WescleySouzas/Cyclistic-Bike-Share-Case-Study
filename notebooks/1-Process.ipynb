{
 "cells": [
  {
   "cell_type": "code",
   "execution_count": null,
   "id": "c5394822",
   "metadata": {},
   "outputs": [],
   "source": [
    "##import das bibliotecas necessárias\n",
    "import pandas as pd\n",
    "import glob\n",
    "import os\n",
    "\n",
    "# 1. Defina o caminho para a pasta onde estão os arquivos CSV dos meses de 2024\n",
    "caminho_pasta = 'C:\\\\Users\\\\Wescley Souza\\\\Desktop\\\\estudo de caso\\\\Dados\\\\csvs'"
   ]
  },
  {
   "cell_type": "code",
   "execution_count": null,
   "id": "2c387d3a",
   "metadata": {},
   "outputs": [],
   "source": [
    "# 2. Listando todos os arquivos CSV na pasta \n",
    "todos_arquivos = glob.glob(os.path.join(caminho_pasta, '*.csv'))"
   ]
  },
  {
   "cell_type": "code",
   "execution_count": null,
   "id": "57f7e314",
   "metadata": {},
   "outputs": [],
   "source": [
    "# 3. Lendo todos os arquivos e combinando em um único DataFrame\n",
    "lista_df = []\n",
    "for arquivo in todos_arquivos:\n",
    "    df_temp = pd.read_csv(arquivo)\n",
    "    lista_df.append(df_temp)\n",
    "\n",
    "df = pd.concat(lista_df, ignore_index=True)"
   ]
  },
  {
   "cell_type": "code",
   "execution_count": null,
   "id": "897a3197",
   "metadata": {},
   "outputs": [],
   "source": [
    "# 4. Criando a coluna 'ride_length' (duração da viagem em minutos)\n",
    "df['started_at'] = pd.to_datetime(df['started_at'], format='mixed')\n",
    "df['ended_at'] = pd.to_datetime(df['ended_at'], format='mixed')\n",
    "df['ride_length'] = (df['ended_at'] - df['started_at']).dt.total_seconds() / 60"
   ]
  },
  {
   "cell_type": "code",
   "execution_count": null,
   "id": "dc53783a",
   "metadata": {},
   "outputs": [],
   "source": [
    "# 5. Criação da coluna 'day_of_week' (dia da semana)\n",
    "df['day_of_week'] = df['started_at'].dt.day_name()"
   ]
  },
  {
   "cell_type": "code",
   "execution_count": null,
   "id": "926c817c",
   "metadata": {},
   "outputs": [],
   "source": [
    "# 6. Removendo viagens com duração negativa ou igual a zero\n",
    "df = df[df['ride_length'] > 0]"
   ]
  },
  {
   "cell_type": "code",
   "execution_count": null,
   "id": "59820c0d",
   "metadata": {},
   "outputs": [],
   "source": [
    "# 7. Removendo linhas com campos essenciais nulos\n",
    "colunas_essenciais = ['ride_id', 'started_at', 'ended_at', 'member_casual']\n",
    "df = df.dropna(subset=colunas_essenciais)"
   ]
  },
  {
   "cell_type": "code",
   "execution_count": null,
   "id": "89925fe1",
   "metadata": {},
   "outputs": [],
   "source": [
    "# 8. Salvando o DataFrame preparado para análise posterior\n",
    "df.to_csv('C:\\\\Users\\\\Wescley Souza\\\\Desktop\\\\estudo de caso\\\\Dados\\\\dados tratados\\\\cyclistic_2024_trips_limpo.csv', index=False)"
   ]
  },
  {
   "cell_type": "code",
   "execution_count": null,
   "id": "e8ed06b4",
   "metadata": {},
   "outputs": [],
   "source": []
  },
  {
   "cell_type": "code",
   "execution_count": null,
   "id": "0beeb25a",
   "metadata": {},
   "outputs": [],
   "source": []
  }
 ],
 "metadata": {
  "language_info": {
   "name": "python"
  }
 },
 "nbformat": 4,
 "nbformat_minor": 5
}
