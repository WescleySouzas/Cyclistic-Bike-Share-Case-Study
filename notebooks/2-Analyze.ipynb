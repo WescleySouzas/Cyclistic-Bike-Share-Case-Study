{
 "cells": [
  {
   "cell_type": "code",
   "execution_count": null,
   "id": "be6cc862",
   "metadata": {},
   "outputs": [],
   "source": [
    "# Lendo os dados tratados\n",
    "df = pd.read_csv('C:\\\\Users\\\\Wescley Souza\\\\Desktop\\\\estudo de caso\\\\Dados\\\\dados tratados\\\\cyclistic_2024_trips_limpo.csv')"
   ]
  },
  {
   "cell_type": "code",
   "execution_count": null,
   "id": "526463b6",
   "metadata": {},
   "outputs": [],
   "source": [
    "# Analisando os dados\n",
    "print(df.info())\n",
    "print(df['member_casual'].value_counts())"
   ]
  },
  {
   "cell_type": "code",
   "execution_count": null,
   "id": "054b1945",
   "metadata": {},
   "outputs": [],
   "source": [
    "# Estatísticas por grupo de usuário\n",
    "ride_stats = df.groupby('member_casual')['ride_length'].describe()\n",
    "print(ride_stats)"
   ]
  },
  {
   "cell_type": "code",
   "execution_count": null,
   "id": "51a1f9a9",
   "metadata": {},
   "outputs": [],
   "source": [
    "# Ordenando os dias para facilitar a leitura\n",
    "dias_ordenados = ['Monday', 'Tuesday', 'Wednesday', 'Thursday', 'Friday', 'Saturday', 'Sunday']\n",
    "\n",
    "# Função da média de duração das viagens por dia da semana\n",
    "avg_ride_by_day = df.groupby(['member_casual', 'day_of_week'])['ride_length'].mean().unstack()\n",
    "avg_ride_by_day = avg_ride_by_day[dias_ordenados]\n",
    "\n",
    "# Adicionando a coluna 'Total' com a soma das médias por linha\n",
    "avg_ride_by_day['Total semana'] = avg_ride_by_day.sum(axis=1)\n",
    "\n",
    "\n",
    "# Adicionando a coluna do final de semana\n",
    "# mostrando sabado e domingo\n",
    "avg_ride_by_day['Total final de semana'] = avg_ride_by_day[['Saturday', 'Sunday']].mean(axis=1)\n",
    "print(avg_ride_by_day)\n"
   ]
  },
  {
   "cell_type": "code",
   "execution_count": null,
   "id": "c490f792",
   "metadata": {},
   "outputs": [],
   "source": [
    "# Número de viagens por dia da semana\n",
    "rides_per_day = df.groupby(['member_casual', 'day_of_week'])['ride_id'].count().unstack()\n",
    "rides_per_day = rides_per_day[dias_ordenados]\n",
    "rides_per_day['Total'] = rides_per_day.sum(axis=1)\n",
    "print(rides_per_day)"
   ]
  },
  {
   "cell_type": "code",
   "execution_count": null,
   "id": "1dd0b467",
   "metadata": {},
   "outputs": [],
   "source": [
    "# Número de viagens por mês\n",
    "df['month'] = pd.to_datetime(df['started_at']).dt.month\n",
    "month_names = ['Jan', 'Feb', 'Mar', 'Apr', 'May', 'Jun', 'Jul', 'Aug', 'Sep', 'Oct', 'Nov', 'Dec']\n",
    "\n",
    "monthly_rides = df.groupby(['member_casual', 'month'])['ride_id'].count().unstack()\n",
    "monthly_rides.columns = month_names[:monthly_rides.shape[1]]\n",
    "\n",
    "monthly_rides['Total'] = monthly_rides.sum(axis=1)\n",
    "print(monthly_rides)"
   ]
  },
  {
   "cell_type": "code",
   "execution_count": null,
   "id": "af2b5642",
   "metadata": {},
   "outputs": [],
   "source": [
    "# Uso de bicicletas por tipo\n",
    "bike_usage = df.groupby(['member_casual', 'rideable_type'])['ride_id'].count().unstack()\n",
    "print(bike_usage)"
   ]
  },
  {
   "cell_type": "code",
   "execution_count": null,
   "id": "b59f6144",
   "metadata": {},
   "outputs": [],
   "source": []
  }
 ],
 "metadata": {
  "language_info": {
   "name": "python"
  }
 },
 "nbformat": 4,
 "nbformat_minor": 5
}
